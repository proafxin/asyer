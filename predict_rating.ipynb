{
 "cells": [
  {
   "cell_type": "code",
   "execution_count": 1,
   "id": "5c2db6e4",
   "metadata": {},
   "outputs": [],
   "source": [
    "from os.path import (\n",
    "    abspath,\n",
    "    dirname,\n",
    "    exists,\n",
    "    join,\n",
    ")\n",
    "from pandas import (\n",
    "    read_csv,\n",
    "    merge,\n",
    "    concat,\n",
    "    DataFrame,\n",
    "    Series,\n",
    ")\n",
    "from random import randint\n",
    "from sklearn.model_selection import train_test_split\n",
    "from sklearn.metrics import (\n",
    "    mean_absolute_percentage_error,\n",
    "    average_precision_score,\n",
    "    mean_absolute_error,\n",
    "    coverage_error,\n",
    "    ndcg_score,\n",
    ")"
   ]
  },
  {
   "cell_type": "code",
   "execution_count": 2,
   "id": "3787f109",
   "metadata": {},
   "outputs": [],
   "source": [
    "PWD = (abspath(''))\n",
    "datadir = join(PWD, '../Datasets/ml-1m/')\n",
    "files = {}\n",
    "files['train'] = join(datadir, 'train.csv')\n",
    "files['test'] = join(datadir, 'test.csv')\n",
    "THRESHOLD = 10\n",
    "TAKE_TOP = 20"
   ]
  },
  {
   "cell_type": "code",
   "execution_count": 3,
   "id": "8bd298d2",
   "metadata": {},
   "outputs": [],
   "source": [
    "dfs = {}\n",
    "for file in files:\n",
    "    dfs[file] = read_csv(\n",
    "        files[file],\n",
    "        engine='python',\n",
    "        encoding='latin1',\n",
    "    )\n",
    "    dfs[file]['rating'] = dfs[file]['rating'].astype(int)"
   ]
  },
  {
   "cell_type": "code",
   "execution_count": 4,
   "id": "8f40eab3",
   "metadata": {},
   "outputs": [
    {
     "data": {
      "text/html": [
       "<div>\n",
       "<style scoped>\n",
       "    .dataframe tbody tr th:only-of-type {\n",
       "        vertical-align: middle;\n",
       "    }\n",
       "\n",
       "    .dataframe tbody tr th {\n",
       "        vertical-align: top;\n",
       "    }\n",
       "\n",
       "    .dataframe thead th {\n",
       "        text-align: right;\n",
       "    }\n",
       "</style>\n",
       "<table border=\"1\" class=\"dataframe\">\n",
       "  <thead>\n",
       "    <tr style=\"text-align: right;\">\n",
       "      <th></th>\n",
       "      <th>title</th>\n",
       "      <th>rating</th>\n",
       "      <th>userId</th>\n",
       "    </tr>\n",
       "  </thead>\n",
       "  <tbody>\n",
       "    <tr>\n",
       "      <th>0</th>\n",
       "      <td>Airplane! (1980)</td>\n",
       "      <td>4</td>\n",
       "      <td>1</td>\n",
       "    </tr>\n",
       "    <tr>\n",
       "      <th>1</th>\n",
       "      <td>Aladdin (1992)</td>\n",
       "      <td>4</td>\n",
       "      <td>1</td>\n",
       "    </tr>\n",
       "    <tr>\n",
       "      <th>2</th>\n",
       "      <td>Antz (1998)</td>\n",
       "      <td>4</td>\n",
       "      <td>1</td>\n",
       "    </tr>\n",
       "    <tr>\n",
       "      <th>3</th>\n",
       "      <td>Apollo 13 (1995)</td>\n",
       "      <td>5</td>\n",
       "      <td>1</td>\n",
       "    </tr>\n",
       "    <tr>\n",
       "      <th>4</th>\n",
       "      <td>Awakenings (1990)</td>\n",
       "      <td>5</td>\n",
       "      <td>1</td>\n",
       "    </tr>\n",
       "  </tbody>\n",
       "</table>\n",
       "</div>"
      ],
      "text/plain": [
       "               title  rating  userId\n",
       "0   Airplane! (1980)       4       1\n",
       "1     Aladdin (1992)       4       1\n",
       "2        Antz (1998)       4       1\n",
       "3   Apollo 13 (1995)       5       1\n",
       "4  Awakenings (1990)       5       1"
      ]
     },
     "execution_count": 4,
     "metadata": {},
     "output_type": "execute_result"
    }
   ],
   "source": [
    "dfs['train'].head()"
   ]
  },
  {
   "cell_type": "code",
   "execution_count": 5,
   "id": "da95e524",
   "metadata": {},
   "outputs": [],
   "source": [
    "ratings = {}\n",
    "users = dfs['train']['userId'].to_numpy()\n",
    "users = set(users)\n",
    "users = list(users)\n",
    "for user in users:\n",
    "    ratings[user] = {}"
   ]
  },
  {
   "cell_type": "code",
   "execution_count": 6,
   "id": "bf444885",
   "metadata": {},
   "outputs": [],
   "source": [
    "rows = dfs['train'].to_numpy()\n",
    "for row in rows:\n",
    "    ratings[row[2]][row[0]] = row[1]"
   ]
  },
  {
   "cell_type": "code",
   "execution_count": 7,
   "id": "d2bc619d",
   "metadata": {},
   "outputs": [
    {
     "data": {
      "text/html": [
       "<div>\n",
       "<style scoped>\n",
       "    .dataframe tbody tr th:only-of-type {\n",
       "        vertical-align: middle;\n",
       "    }\n",
       "\n",
       "    .dataframe tbody tr th {\n",
       "        vertical-align: top;\n",
       "    }\n",
       "\n",
       "    .dataframe thead th {\n",
       "        text-align: right;\n",
       "    }\n",
       "</style>\n",
       "<table border=\"1\" class=\"dataframe\">\n",
       "  <thead>\n",
       "    <tr style=\"text-align: right;\">\n",
       "      <th></th>\n",
       "      <th>title</th>\n",
       "      <th>rating</th>\n",
       "      <th>userId</th>\n",
       "    </tr>\n",
       "  </thead>\n",
       "  <tbody>\n",
       "    <tr>\n",
       "      <th>0</th>\n",
       "      <td>Snow White and the Seven Dwarfs (1937)</td>\n",
       "      <td>4</td>\n",
       "      <td>1</td>\n",
       "    </tr>\n",
       "    <tr>\n",
       "      <th>1</th>\n",
       "      <td>Sound of Music, The (1965)</td>\n",
       "      <td>5</td>\n",
       "      <td>1</td>\n",
       "    </tr>\n",
       "    <tr>\n",
       "      <th>2</th>\n",
       "      <td>Star Wars: Episode IV - A New Hope (1977)</td>\n",
       "      <td>4</td>\n",
       "      <td>1</td>\n",
       "    </tr>\n",
       "    <tr>\n",
       "      <th>3</th>\n",
       "      <td>Tarzan (1999)</td>\n",
       "      <td>3</td>\n",
       "      <td>1</td>\n",
       "    </tr>\n",
       "    <tr>\n",
       "      <th>4</th>\n",
       "      <td>Titanic (1997)</td>\n",
       "      <td>4</td>\n",
       "      <td>1</td>\n",
       "    </tr>\n",
       "  </tbody>\n",
       "</table>\n",
       "</div>"
      ],
      "text/plain": [
       "                                       title  rating  userId\n",
       "0     Snow White and the Seven Dwarfs (1937)       4       1\n",
       "1                 Sound of Music, The (1965)       5       1\n",
       "2  Star Wars: Episode IV - A New Hope (1977)       4       1\n",
       "3                              Tarzan (1999)       3       1\n",
       "4                             Titanic (1997)       4       1"
      ]
     },
     "execution_count": 7,
     "metadata": {},
     "output_type": "execute_result"
    }
   ],
   "source": [
    "dfs['test'].head()"
   ]
  },
  {
   "cell_type": "code",
   "execution_count": 8,
   "id": "c76ab95e",
   "metadata": {},
   "outputs": [
    {
     "data": {
      "text/plain": [
       "((755865, 3), (99865, 3))"
      ]
     },
     "execution_count": 8,
     "metadata": {},
     "output_type": "execute_result"
    }
   ],
   "source": [
    "dfs['train'].shape, dfs['test'].shape"
   ]
  },
  {
   "cell_type": "code",
   "execution_count": 9,
   "id": "08a07b09",
   "metadata": {},
   "outputs": [
    {
     "data": {
      "text/plain": [
       "(99865, 3)"
      ]
     },
     "execution_count": 9,
     "metadata": {},
     "output_type": "execute_result"
    }
   ],
   "source": [
    "dfs['test'][dfs['test']['title'].isin(dfs['train']['title'])].shape"
   ]
  },
  {
   "cell_type": "code",
   "execution_count": 10,
   "id": "610267eb",
   "metadata": {},
   "outputs": [],
   "source": [
    "dfs['users'] = dfs['train'].pivot_table(\n",
    "    index=['title'],\n",
    "    columns=['userId'],\n",
    "    values='rating',\n",
    ")"
   ]
  },
  {
   "cell_type": "code",
   "execution_count": 11,
   "id": "ef08dd48",
   "metadata": {},
   "outputs": [
    {
     "data": {
      "text/html": [
       "<div>\n",
       "<style scoped>\n",
       "    .dataframe tbody tr th:only-of-type {\n",
       "        vertical-align: middle;\n",
       "    }\n",
       "\n",
       "    .dataframe tbody tr th {\n",
       "        vertical-align: top;\n",
       "    }\n",
       "\n",
       "    .dataframe thead th {\n",
       "        text-align: right;\n",
       "    }\n",
       "</style>\n",
       "<table border=\"1\" class=\"dataframe\">\n",
       "  <thead>\n",
       "    <tr style=\"text-align: right;\">\n",
       "      <th>userId</th>\n",
       "      <th>1</th>\n",
       "      <th>2</th>\n",
       "      <th>3</th>\n",
       "      <th>4</th>\n",
       "      <th>5</th>\n",
       "      <th>6</th>\n",
       "      <th>7</th>\n",
       "      <th>8</th>\n",
       "      <th>9</th>\n",
       "      <th>10</th>\n",
       "      <th>...</th>\n",
       "      <th>6031</th>\n",
       "      <th>6032</th>\n",
       "      <th>6033</th>\n",
       "      <th>6034</th>\n",
       "      <th>6035</th>\n",
       "      <th>6036</th>\n",
       "      <th>6037</th>\n",
       "      <th>6038</th>\n",
       "      <th>6039</th>\n",
       "      <th>6040</th>\n",
       "    </tr>\n",
       "    <tr>\n",
       "      <th>title</th>\n",
       "      <th></th>\n",
       "      <th></th>\n",
       "      <th></th>\n",
       "      <th></th>\n",
       "      <th></th>\n",
       "      <th></th>\n",
       "      <th></th>\n",
       "      <th></th>\n",
       "      <th></th>\n",
       "      <th></th>\n",
       "      <th></th>\n",
       "      <th></th>\n",
       "      <th></th>\n",
       "      <th></th>\n",
       "      <th></th>\n",
       "      <th></th>\n",
       "      <th></th>\n",
       "      <th></th>\n",
       "      <th></th>\n",
       "      <th></th>\n",
       "      <th></th>\n",
       "    </tr>\n",
       "  </thead>\n",
       "  <tbody>\n",
       "    <tr>\n",
       "      <th>'burbs, The (1989)</th>\n",
       "      <td>NaN</td>\n",
       "      <td>NaN</td>\n",
       "      <td>NaN</td>\n",
       "      <td>NaN</td>\n",
       "      <td>NaN</td>\n",
       "      <td>NaN</td>\n",
       "      <td>NaN</td>\n",
       "      <td>NaN</td>\n",
       "      <td>NaN</td>\n",
       "      <td>4.0</td>\n",
       "      <td>...</td>\n",
       "      <td>NaN</td>\n",
       "      <td>NaN</td>\n",
       "      <td>NaN</td>\n",
       "      <td>NaN</td>\n",
       "      <td>NaN</td>\n",
       "      <td>NaN</td>\n",
       "      <td>NaN</td>\n",
       "      <td>NaN</td>\n",
       "      <td>NaN</td>\n",
       "      <td>NaN</td>\n",
       "    </tr>\n",
       "    <tr>\n",
       "      <th>10 Things I Hate About You (1999)</th>\n",
       "      <td>NaN</td>\n",
       "      <td>NaN</td>\n",
       "      <td>NaN</td>\n",
       "      <td>NaN</td>\n",
       "      <td>NaN</td>\n",
       "      <td>NaN</td>\n",
       "      <td>NaN</td>\n",
       "      <td>NaN</td>\n",
       "      <td>NaN</td>\n",
       "      <td>NaN</td>\n",
       "      <td>...</td>\n",
       "      <td>NaN</td>\n",
       "      <td>NaN</td>\n",
       "      <td>NaN</td>\n",
       "      <td>NaN</td>\n",
       "      <td>NaN</td>\n",
       "      <td>2.0</td>\n",
       "      <td>NaN</td>\n",
       "      <td>NaN</td>\n",
       "      <td>NaN</td>\n",
       "      <td>NaN</td>\n",
       "    </tr>\n",
       "    <tr>\n",
       "      <th>101 Dalmatians (1961)</th>\n",
       "      <td>NaN</td>\n",
       "      <td>NaN</td>\n",
       "      <td>NaN</td>\n",
       "      <td>NaN</td>\n",
       "      <td>NaN</td>\n",
       "      <td>NaN</td>\n",
       "      <td>NaN</td>\n",
       "      <td>NaN</td>\n",
       "      <td>NaN</td>\n",
       "      <td>NaN</td>\n",
       "      <td>...</td>\n",
       "      <td>NaN</td>\n",
       "      <td>4.0</td>\n",
       "      <td>NaN</td>\n",
       "      <td>NaN</td>\n",
       "      <td>NaN</td>\n",
       "      <td>4.0</td>\n",
       "      <td>NaN</td>\n",
       "      <td>NaN</td>\n",
       "      <td>NaN</td>\n",
       "      <td>NaN</td>\n",
       "    </tr>\n",
       "    <tr>\n",
       "      <th>101 Dalmatians (1996)</th>\n",
       "      <td>NaN</td>\n",
       "      <td>NaN</td>\n",
       "      <td>NaN</td>\n",
       "      <td>NaN</td>\n",
       "      <td>NaN</td>\n",
       "      <td>NaN</td>\n",
       "      <td>NaN</td>\n",
       "      <td>NaN</td>\n",
       "      <td>NaN</td>\n",
       "      <td>NaN</td>\n",
       "      <td>...</td>\n",
       "      <td>NaN</td>\n",
       "      <td>NaN</td>\n",
       "      <td>NaN</td>\n",
       "      <td>NaN</td>\n",
       "      <td>1.0</td>\n",
       "      <td>NaN</td>\n",
       "      <td>NaN</td>\n",
       "      <td>NaN</td>\n",
       "      <td>NaN</td>\n",
       "      <td>NaN</td>\n",
       "    </tr>\n",
       "    <tr>\n",
       "      <th>12 Angry Men (1957)</th>\n",
       "      <td>NaN</td>\n",
       "      <td>NaN</td>\n",
       "      <td>NaN</td>\n",
       "      <td>NaN</td>\n",
       "      <td>NaN</td>\n",
       "      <td>NaN</td>\n",
       "      <td>NaN</td>\n",
       "      <td>NaN</td>\n",
       "      <td>NaN</td>\n",
       "      <td>3.0</td>\n",
       "      <td>...</td>\n",
       "      <td>NaN</td>\n",
       "      <td>NaN</td>\n",
       "      <td>NaN</td>\n",
       "      <td>NaN</td>\n",
       "      <td>NaN</td>\n",
       "      <td>NaN</td>\n",
       "      <td>4.0</td>\n",
       "      <td>NaN</td>\n",
       "      <td>NaN</td>\n",
       "      <td>5.0</td>\n",
       "    </tr>\n",
       "  </tbody>\n",
       "</table>\n",
       "<p>5 rows × 6040 columns</p>\n",
       "</div>"
      ],
      "text/plain": [
       "userId                             1     2     3     4     5     6     7     \\\n",
       "title                                                                         \n",
       "'burbs, The (1989)                  NaN   NaN   NaN   NaN   NaN   NaN   NaN   \n",
       "10 Things I Hate About You (1999)   NaN   NaN   NaN   NaN   NaN   NaN   NaN   \n",
       "101 Dalmatians (1961)               NaN   NaN   NaN   NaN   NaN   NaN   NaN   \n",
       "101 Dalmatians (1996)               NaN   NaN   NaN   NaN   NaN   NaN   NaN   \n",
       "12 Angry Men (1957)                 NaN   NaN   NaN   NaN   NaN   NaN   NaN   \n",
       "\n",
       "userId                             8     9     10    ...  6031  6032  6033  \\\n",
       "title                                                ...                     \n",
       "'burbs, The (1989)                  NaN   NaN   4.0  ...   NaN   NaN   NaN   \n",
       "10 Things I Hate About You (1999)   NaN   NaN   NaN  ...   NaN   NaN   NaN   \n",
       "101 Dalmatians (1961)               NaN   NaN   NaN  ...   NaN   4.0   NaN   \n",
       "101 Dalmatians (1996)               NaN   NaN   NaN  ...   NaN   NaN   NaN   \n",
       "12 Angry Men (1957)                 NaN   NaN   3.0  ...   NaN   NaN   NaN   \n",
       "\n",
       "userId                             6034  6035  6036  6037  6038  6039  6040  \n",
       "title                                                                        \n",
       "'burbs, The (1989)                  NaN   NaN   NaN   NaN   NaN   NaN   NaN  \n",
       "10 Things I Hate About You (1999)   NaN   NaN   2.0   NaN   NaN   NaN   NaN  \n",
       "101 Dalmatians (1961)               NaN   NaN   4.0   NaN   NaN   NaN   NaN  \n",
       "101 Dalmatians (1996)               NaN   1.0   NaN   NaN   NaN   NaN   NaN  \n",
       "12 Angry Men (1957)                 NaN   NaN   NaN   4.0   NaN   NaN   5.0  \n",
       "\n",
       "[5 rows x 6040 columns]"
      ]
     },
     "execution_count": 11,
     "metadata": {},
     "output_type": "execute_result"
    }
   ],
   "source": [
    "dfs['users'].head()"
   ]
  },
  {
   "cell_type": "code",
   "execution_count": 12,
   "id": "7e02602d",
   "metadata": {},
   "outputs": [],
   "source": [
    "corr_user = dfs['users'].corr(min_periods=THRESHOLD)"
   ]
  },
  {
   "cell_type": "code",
   "execution_count": 13,
   "id": "9c9ade20",
   "metadata": {},
   "outputs": [],
   "source": [
    "corr_user += 1.0\n",
    "corr_user /= 2.0"
   ]
  },
  {
   "cell_type": "code",
   "execution_count": 14,
   "id": "2e9f6a61",
   "metadata": {},
   "outputs": [
    {
     "data": {
      "text/html": [
       "<div>\n",
       "<style scoped>\n",
       "    .dataframe tbody tr th:only-of-type {\n",
       "        vertical-align: middle;\n",
       "    }\n",
       "\n",
       "    .dataframe tbody tr th {\n",
       "        vertical-align: top;\n",
       "    }\n",
       "\n",
       "    .dataframe thead th {\n",
       "        text-align: right;\n",
       "    }\n",
       "</style>\n",
       "<table border=\"1\" class=\"dataframe\">\n",
       "  <thead>\n",
       "    <tr style=\"text-align: right;\">\n",
       "      <th>userId</th>\n",
       "      <th>1</th>\n",
       "      <th>2</th>\n",
       "      <th>3</th>\n",
       "      <th>4</th>\n",
       "      <th>5</th>\n",
       "      <th>6</th>\n",
       "      <th>7</th>\n",
       "      <th>8</th>\n",
       "      <th>9</th>\n",
       "      <th>10</th>\n",
       "      <th>...</th>\n",
       "      <th>6031</th>\n",
       "      <th>6032</th>\n",
       "      <th>6033</th>\n",
       "      <th>6034</th>\n",
       "      <th>6035</th>\n",
       "      <th>6036</th>\n",
       "      <th>6037</th>\n",
       "      <th>6038</th>\n",
       "      <th>6039</th>\n",
       "      <th>6040</th>\n",
       "    </tr>\n",
       "    <tr>\n",
       "      <th>userId</th>\n",
       "      <th></th>\n",
       "      <th></th>\n",
       "      <th></th>\n",
       "      <th></th>\n",
       "      <th></th>\n",
       "      <th></th>\n",
       "      <th></th>\n",
       "      <th></th>\n",
       "      <th></th>\n",
       "      <th></th>\n",
       "      <th></th>\n",
       "      <th></th>\n",
       "      <th></th>\n",
       "      <th></th>\n",
       "      <th></th>\n",
       "      <th></th>\n",
       "      <th></th>\n",
       "      <th></th>\n",
       "      <th></th>\n",
       "      <th></th>\n",
       "      <th></th>\n",
       "    </tr>\n",
       "  </thead>\n",
       "  <tbody>\n",
       "    <tr>\n",
       "      <th>1</th>\n",
       "      <td>1.0</td>\n",
       "      <td>NaN</td>\n",
       "      <td>NaN</td>\n",
       "      <td>NaN</td>\n",
       "      <td>NaN</td>\n",
       "      <td>NaN</td>\n",
       "      <td>NaN</td>\n",
       "      <td>NaN</td>\n",
       "      <td>0.656670</td>\n",
       "      <td>0.424752</td>\n",
       "      <td>...</td>\n",
       "      <td>NaN</td>\n",
       "      <td>NaN</td>\n",
       "      <td>NaN</td>\n",
       "      <td>NaN</td>\n",
       "      <td>NaN</td>\n",
       "      <td>0.426223</td>\n",
       "      <td>NaN</td>\n",
       "      <td>NaN</td>\n",
       "      <td>0.5508</td>\n",
       "      <td>0.527408</td>\n",
       "    </tr>\n",
       "    <tr>\n",
       "      <th>2</th>\n",
       "      <td>NaN</td>\n",
       "      <td>1.00000</td>\n",
       "      <td>NaN</td>\n",
       "      <td>NaN</td>\n",
       "      <td>0.30215</td>\n",
       "      <td>NaN</td>\n",
       "      <td>0.597590</td>\n",
       "      <td>0.524901</td>\n",
       "      <td>0.602029</td>\n",
       "      <td>0.450896</td>\n",
       "      <td>...</td>\n",
       "      <td>NaN</td>\n",
       "      <td>NaN</td>\n",
       "      <td>0.646647</td>\n",
       "      <td>NaN</td>\n",
       "      <td>0.740294</td>\n",
       "      <td>0.667588</td>\n",
       "      <td>0.646267</td>\n",
       "      <td>NaN</td>\n",
       "      <td>NaN</td>\n",
       "      <td>0.515827</td>\n",
       "    </tr>\n",
       "    <tr>\n",
       "      <th>3</th>\n",
       "      <td>NaN</td>\n",
       "      <td>NaN</td>\n",
       "      <td>1.0</td>\n",
       "      <td>NaN</td>\n",
       "      <td>NaN</td>\n",
       "      <td>NaN</td>\n",
       "      <td>NaN</td>\n",
       "      <td>NaN</td>\n",
       "      <td>NaN</td>\n",
       "      <td>0.510779</td>\n",
       "      <td>...</td>\n",
       "      <td>NaN</td>\n",
       "      <td>NaN</td>\n",
       "      <td>NaN</td>\n",
       "      <td>NaN</td>\n",
       "      <td>NaN</td>\n",
       "      <td>0.610754</td>\n",
       "      <td>NaN</td>\n",
       "      <td>NaN</td>\n",
       "      <td>NaN</td>\n",
       "      <td>0.284105</td>\n",
       "    </tr>\n",
       "    <tr>\n",
       "      <th>4</th>\n",
       "      <td>NaN</td>\n",
       "      <td>NaN</td>\n",
       "      <td>NaN</td>\n",
       "      <td>1.0</td>\n",
       "      <td>NaN</td>\n",
       "      <td>NaN</td>\n",
       "      <td>NaN</td>\n",
       "      <td>NaN</td>\n",
       "      <td>NaN</td>\n",
       "      <td>NaN</td>\n",
       "      <td>...</td>\n",
       "      <td>NaN</td>\n",
       "      <td>NaN</td>\n",
       "      <td>0.336337</td>\n",
       "      <td>NaN</td>\n",
       "      <td>NaN</td>\n",
       "      <td>0.790146</td>\n",
       "      <td>NaN</td>\n",
       "      <td>NaN</td>\n",
       "      <td>NaN</td>\n",
       "      <td>NaN</td>\n",
       "    </tr>\n",
       "    <tr>\n",
       "      <th>5</th>\n",
       "      <td>NaN</td>\n",
       "      <td>0.30215</td>\n",
       "      <td>NaN</td>\n",
       "      <td>NaN</td>\n",
       "      <td>1.00000</td>\n",
       "      <td>NaN</td>\n",
       "      <td>0.656348</td>\n",
       "      <td>0.741886</td>\n",
       "      <td>0.573793</td>\n",
       "      <td>0.464953</td>\n",
       "      <td>...</td>\n",
       "      <td>NaN</td>\n",
       "      <td>NaN</td>\n",
       "      <td>NaN</td>\n",
       "      <td>NaN</td>\n",
       "      <td>0.758365</td>\n",
       "      <td>0.610301</td>\n",
       "      <td>0.445316</td>\n",
       "      <td>NaN</td>\n",
       "      <td>NaN</td>\n",
       "      <td>0.677139</td>\n",
       "    </tr>\n",
       "  </tbody>\n",
       "</table>\n",
       "<p>5 rows × 6040 columns</p>\n",
       "</div>"
      ],
      "text/plain": [
       "userId  1        2     3     4        5     6         7         8     \\\n",
       "userId                                                                 \n",
       "1        1.0      NaN   NaN   NaN      NaN   NaN       NaN       NaN   \n",
       "2        NaN  1.00000   NaN   NaN  0.30215   NaN  0.597590  0.524901   \n",
       "3        NaN      NaN   1.0   NaN      NaN   NaN       NaN       NaN   \n",
       "4        NaN      NaN   NaN   1.0      NaN   NaN       NaN       NaN   \n",
       "5        NaN  0.30215   NaN   NaN  1.00000   NaN  0.656348  0.741886   \n",
       "\n",
       "userId      9         10    ...  6031  6032      6033  6034      6035  \\\n",
       "userId                      ...                                         \n",
       "1       0.656670  0.424752  ...   NaN   NaN       NaN   NaN       NaN   \n",
       "2       0.602029  0.450896  ...   NaN   NaN  0.646647   NaN  0.740294   \n",
       "3            NaN  0.510779  ...   NaN   NaN       NaN   NaN       NaN   \n",
       "4            NaN       NaN  ...   NaN   NaN  0.336337   NaN       NaN   \n",
       "5       0.573793  0.464953  ...   NaN   NaN       NaN   NaN  0.758365   \n",
       "\n",
       "userId      6036      6037  6038    6039      6040  \n",
       "userId                                              \n",
       "1       0.426223       NaN   NaN  0.5508  0.527408  \n",
       "2       0.667588  0.646267   NaN     NaN  0.515827  \n",
       "3       0.610754       NaN   NaN     NaN  0.284105  \n",
       "4       0.790146       NaN   NaN     NaN       NaN  \n",
       "5       0.610301  0.445316   NaN     NaN  0.677139  \n",
       "\n",
       "[5 rows x 6040 columns]"
      ]
     },
     "execution_count": 14,
     "metadata": {},
     "output_type": "execute_result"
    }
   ],
   "source": [
    "corr_user.head()"
   ]
  },
  {
   "cell_type": "code",
   "execution_count": 15,
   "id": "a19236c9",
   "metadata": {},
   "outputs": [],
   "source": [
    "users = corr_user.columns.tolist()"
   ]
  },
  {
   "cell_type": "code",
   "execution_count": 16,
   "id": "a29047e4",
   "metadata": {},
   "outputs": [],
   "source": [
    "similarities = {}\n",
    "for u in users:\n",
    "    users_sim = corr_user[u].dropna()\n",
    "    similarities[u] = {}\n",
    "    for (v, s) in zip(users_sim.index, users_sim.values):\n",
    "        similarities[u][v] = s"
   ]
  },
  {
   "cell_type": "code",
   "execution_count": 17,
   "id": "842c08bd",
   "metadata": {},
   "outputs": [],
   "source": [
    "dfs['pivot'] = dfs['train'].pivot_table(\n",
    "    index=['title'],\n",
    "    columns=['userId'],\n",
    "    values='rating',\n",
    ")"
   ]
  },
  {
   "cell_type": "code",
   "execution_count": 18,
   "id": "16fe9c33",
   "metadata": {},
   "outputs": [],
   "source": [
    "def get_harmonic(W, X):\n",
    "    den = 0\n",
    "    for (w, x) in zip(W, X):\n",
    "        den += (w/x)\n",
    "    num = sum(W)\n",
    "    res = num/den\n",
    "    \n",
    "    return res"
   ]
  },
  {
   "cell_type": "code",
   "execution_count": 19,
   "id": "1be78290",
   "metadata": {},
   "outputs": [
    {
     "name": "stdout",
     "output_type": "stream",
     "text": [
      "Wall time: 0 ns\n"
     ]
    }
   ],
   "source": [
    "%time\n",
    "rows = dfs['test'].to_numpy()\n",
    "predictions = []\n",
    "for row in rows[:]:\n",
    "    rating = 0\n",
    "    u = row[2]\n",
    "    m = row[0]\n",
    "    r = row[1]\n",
    "    tot = 0\n",
    "    raters = dfs['pivot'].loc[m].dropna().index\n",
    "    sim_tot = 0\n",
    "    #print(raters)\n",
    "    W = []\n",
    "    X = []\n",
    "    for v in raters:\n",
    "        if v not in similarities[u]:\n",
    "            continue\n",
    "        if similarities[u][v] >= .7:\n",
    "            rating += ratings[v][m]*similarities[u][v]\n",
    "            W.append(similarities[u][v])\n",
    "            X.append(ratings[v][m])\n",
    "            sim_tot += similarities[u][v]\n",
    "            tot += 1\n",
    "            if tot > TAKE_TOP:\n",
    "                break\n",
    "    if tot > 0:\n",
    "        rating /= sim_tot\n",
    "        rating = get_harmonic(W, X)\n",
    "        #rating *= 5\n",
    "        #rating /= 5\n",
    "    else:\n",
    "        rating = dfs['pivot'].loc[m].dropna().values\n",
    "        if len(rating) < 1:\n",
    "            rating = dfs['user'].loc[u].dropna().values\n",
    "            rating = sum(rating)/len(rating)\n",
    "        else:\n",
    "            rating = sum(rating)/len(rating)\n",
    "    rating += .5\n",
    "    rating = int(rating)\n",
    "    predictions.append(rating)"
   ]
  },
  {
   "cell_type": "code",
   "execution_count": 20,
   "id": "ef0eeda9",
   "metadata": {},
   "outputs": [],
   "source": [
    "dfs['test']['prediction'] = predictions"
   ]
  },
  {
   "cell_type": "code",
   "execution_count": 21,
   "id": "3f0685be",
   "metadata": {},
   "outputs": [
    {
     "data": {
      "text/html": [
       "<div>\n",
       "<style scoped>\n",
       "    .dataframe tbody tr th:only-of-type {\n",
       "        vertical-align: middle;\n",
       "    }\n",
       "\n",
       "    .dataframe tbody tr th {\n",
       "        vertical-align: top;\n",
       "    }\n",
       "\n",
       "    .dataframe thead th {\n",
       "        text-align: right;\n",
       "    }\n",
       "</style>\n",
       "<table border=\"1\" class=\"dataframe\">\n",
       "  <thead>\n",
       "    <tr style=\"text-align: right;\">\n",
       "      <th></th>\n",
       "      <th>title</th>\n",
       "      <th>rating</th>\n",
       "      <th>userId</th>\n",
       "      <th>prediction</th>\n",
       "    </tr>\n",
       "  </thead>\n",
       "  <tbody>\n",
       "    <tr>\n",
       "      <th>0</th>\n",
       "      <td>Snow White and the Seven Dwarfs (1937)</td>\n",
       "      <td>4</td>\n",
       "      <td>1</td>\n",
       "      <td>4</td>\n",
       "    </tr>\n",
       "    <tr>\n",
       "      <th>1</th>\n",
       "      <td>Sound of Music, The (1965)</td>\n",
       "      <td>5</td>\n",
       "      <td>1</td>\n",
       "      <td>4</td>\n",
       "    </tr>\n",
       "    <tr>\n",
       "      <th>2</th>\n",
       "      <td>Star Wars: Episode IV - A New Hope (1977)</td>\n",
       "      <td>4</td>\n",
       "      <td>1</td>\n",
       "      <td>5</td>\n",
       "    </tr>\n",
       "    <tr>\n",
       "      <th>3</th>\n",
       "      <td>Tarzan (1999)</td>\n",
       "      <td>3</td>\n",
       "      <td>1</td>\n",
       "      <td>4</td>\n",
       "    </tr>\n",
       "    <tr>\n",
       "      <th>4</th>\n",
       "      <td>Titanic (1997)</td>\n",
       "      <td>4</td>\n",
       "      <td>1</td>\n",
       "      <td>4</td>\n",
       "    </tr>\n",
       "  </tbody>\n",
       "</table>\n",
       "</div>"
      ],
      "text/plain": [
       "                                       title  rating  userId  prediction\n",
       "0     Snow White and the Seven Dwarfs (1937)       4       1           4\n",
       "1                 Sound of Music, The (1965)       5       1           4\n",
       "2  Star Wars: Episode IV - A New Hope (1977)       4       1           5\n",
       "3                              Tarzan (1999)       3       1           4\n",
       "4                             Titanic (1997)       4       1           4"
      ]
     },
     "execution_count": 21,
     "metadata": {},
     "output_type": "execute_result"
    }
   ],
   "source": [
    "dfs['test'].head()"
   ]
  },
  {
   "cell_type": "code",
   "execution_count": 22,
   "id": "650fef4a",
   "metadata": {},
   "outputs": [
    {
     "data": {
      "text/plain": [
       "0.3169690749178058"
      ]
     },
     "execution_count": 22,
     "metadata": {},
     "output_type": "execute_result"
    }
   ],
   "source": [
    "mean_absolute_percentage_error(dfs['test']['rating'], dfs['test']['prediction'])"
   ]
  },
  {
   "cell_type": "code",
   "execution_count": 23,
   "id": "19edc839",
   "metadata": {},
   "outputs": [
    {
     "data": {
      "text/plain": [
       "0.9064537125118911"
      ]
     },
     "execution_count": 23,
     "metadata": {},
     "output_type": "execute_result"
    }
   ],
   "source": [
    "mean_absolute_error(dfs['test']['rating'], dfs['test']['prediction'])"
   ]
  },
  {
   "cell_type": "code",
   "execution_count": 24,
   "id": "e17cba36",
   "metadata": {},
   "outputs": [],
   "source": [
    "def get_map(y_true, y_pred, k=3):\n",
    "    y_true = [1 if y >= k else 0 for y in y_true]\n",
    "    y_pred = [1 if y >= k else 0 for y in y_pred]\n",
    "    \n",
    "    return average_precision_score(y_true, y_pred)"
   ]
  },
  {
   "cell_type": "code",
   "execution_count": 25,
   "id": "e5a92108",
   "metadata": {},
   "outputs": [
    {
     "data": {
      "text/plain": [
       "0.8931766552067855"
      ]
     },
     "execution_count": 25,
     "metadata": {},
     "output_type": "execute_result"
    }
   ],
   "source": [
    "get_map(dfs['test']['rating'], dfs['test']['prediction'])"
   ]
  },
  {
   "cell_type": "code",
   "execution_count": 26,
   "id": "b4d1433e",
   "metadata": {},
   "outputs": [
    {
     "data": {
      "text/plain": [
       "0.6998344504205387"
      ]
     },
     "execution_count": 26,
     "metadata": {},
     "output_type": "execute_result"
    }
   ],
   "source": [
    "get_map(dfs['test']['rating'], dfs['test']['prediction'], 4)"
   ]
  },
  {
   "cell_type": "code",
   "execution_count": 27,
   "id": "c84801f0",
   "metadata": {
    "scrolled": false
   },
   "outputs": [
    {
     "data": {
      "text/plain": [
       "count    99865.000000\n",
       "mean         3.652381\n",
       "std          0.963700\n",
       "min          1.000000\n",
       "25%          3.000000\n",
       "50%          4.000000\n",
       "75%          4.000000\n",
       "max          5.000000\n",
       "Name: prediction, dtype: float64"
      ]
     },
     "execution_count": 27,
     "metadata": {},
     "output_type": "execute_result"
    }
   ],
   "source": [
    "dfs['test']['prediction'].describe()"
   ]
  },
  {
   "cell_type": "code",
   "execution_count": null,
   "id": "de3c6af4",
   "metadata": {},
   "outputs": [],
   "source": []
  }
 ],
 "metadata": {
  "kernelspec": {
   "display_name": "Python 3",
   "language": "python",
   "name": "python3"
  },
  "language_info": {
   "codemirror_mode": {
    "name": "ipython",
    "version": 3
   },
   "file_extension": ".py",
   "mimetype": "text/x-python",
   "name": "python",
   "nbconvert_exporter": "python",
   "pygments_lexer": "ipython3",
   "version": "3.8.8"
  }
 },
 "nbformat": 4,
 "nbformat_minor": 5
}
